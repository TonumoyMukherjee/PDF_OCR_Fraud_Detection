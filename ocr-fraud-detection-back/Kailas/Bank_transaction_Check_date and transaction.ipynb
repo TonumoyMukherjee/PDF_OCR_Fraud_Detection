{
 "cells": [
  {
   "cell_type": "code",
   "execution_count": 46,
   "id": "28b5d5a1",
   "metadata": {},
   "outputs": [],
   "source": [
    "import pandas as pd\n",
    "import numpy as np\n",
    "import re"
   ]
  },
  {
   "cell_type": "markdown",
   "id": "7254a217",
   "metadata": {},
   "source": [
    "## TRIAL 1"
   ]
  },
  {
   "cell_type": "code",
   "execution_count": 47,
   "id": "119a7d4c",
   "metadata": {},
   "outputs": [],
   "source": [
    "df1 = pd.read_csv(r'C:\\Users\\Oracle\\Downloads\\sbi_all_pages_table_0.csv')"
   ]
  },
  {
   "cell_type": "code",
   "execution_count": 48,
   "id": "f23601a4",
   "metadata": {},
   "outputs": [
    {
     "data": {
      "text/html": [
       "<div>\n",
       "<style scoped>\n",
       "    .dataframe tbody tr th:only-of-type {\n",
       "        vertical-align: middle;\n",
       "    }\n",
       "\n",
       "    .dataframe tbody tr th {\n",
       "        vertical-align: top;\n",
       "    }\n",
       "\n",
       "    .dataframe thead th {\n",
       "        text-align: right;\n",
       "    }\n",
       "</style>\n",
       "<table border=\"1\" class=\"dataframe\">\n",
       "  <thead>\n",
       "    <tr style=\"text-align: right;\">\n",
       "      <th></th>\n",
       "      <th>Unnamed: 0</th>\n",
       "      <th>Txn Date</th>\n",
       "      <th>Value\\rDate</th>\n",
       "      <th>Description</th>\n",
       "      <th>Ref No./Cheque\\rNo.</th>\n",
       "      <th>Debit</th>\n",
       "      <th>Credit</th>\n",
       "      <th>Balance</th>\n",
       "    </tr>\n",
       "  </thead>\n",
       "  <tbody>\n",
       "    <tr>\n",
       "      <th>0</th>\n",
       "      <td>0</td>\n",
       "      <td>13 Oct\\r2021</td>\n",
       "      <td>13 Oct\\r2021</td>\n",
       "      <td>TO TRANSFER-\\rUPI/DR/128689923010/GUNW\\rANT\\r/...</td>\n",
       "      <td>TRANSFER TO\\r5097736162091</td>\n",
       "      <td>337.52</td>\n",
       "      <td>NaN</td>\n",
       "      <td>13,662.08</td>\n",
       "    </tr>\n",
       "    <tr>\n",
       "      <th>1</th>\n",
       "      <td>1</td>\n",
       "      <td>13 Oct\\r2021</td>\n",
       "      <td>13 Oct\\r2021</td>\n",
       "      <td>TO TRANSFER-\\rUPI/DR/128636615030/K\\rGURUJI/YE...</td>\n",
       "      <td>TRANSFER TO\\r5097687162095</td>\n",
       "      <td>17.48</td>\n",
       "      <td>NaN</td>\n",
       "      <td>13,644.60</td>\n",
       "    </tr>\n",
       "    <tr>\n",
       "      <th>2</th>\n",
       "      <td>2</td>\n",
       "      <td>18 Oct\\r2021</td>\n",
       "      <td>18 Oct\\r2021</td>\n",
       "      <td>by debit card-\\rOTHPOS129102002102BPCL\\rAKASH ...</td>\n",
       "      <td>NaN</td>\n",
       "      <td>340.00</td>\n",
       "      <td>NaN</td>\n",
       "      <td>13,304.60</td>\n",
       "    </tr>\n",
       "    <tr>\n",
       "      <th>3</th>\n",
       "      <td>3</td>\n",
       "      <td>18 Oct\\r2021</td>\n",
       "      <td>18 Oct\\r2021</td>\n",
       "      <td>TO TRANSFER-\\rUPI/DR/129173778537/IYNUL\\rHAQ/A...</td>\n",
       "      <td>TRANSFER TO\\r5099393162093</td>\n",
       "      <td>300.00</td>\n",
       "      <td>NaN</td>\n",
       "      <td>13,004.60</td>\n",
       "    </tr>\n",
       "    <tr>\n",
       "      <th>4</th>\n",
       "      <td>4</td>\n",
       "      <td>19 Oct\\r2021</td>\n",
       "      <td>19 Oct\\r2021</td>\n",
       "      <td>TO TRANSFER-\\rUPI/DR/129234380807/K\\rGURUJI/YE...</td>\n",
       "      <td>TRANSFER TO\\r4692469162094</td>\n",
       "      <td>20.00</td>\n",
       "      <td>NaN</td>\n",
       "      <td>12,984.60</td>\n",
       "    </tr>\n",
       "  </tbody>\n",
       "</table>\n",
       "</div>"
      ],
      "text/plain": [
       "   Unnamed: 0      Txn Date   Value\\rDate  \\\n",
       "0           0  13 Oct\\r2021  13 Oct\\r2021   \n",
       "1           1  13 Oct\\r2021  13 Oct\\r2021   \n",
       "2           2  18 Oct\\r2021  18 Oct\\r2021   \n",
       "3           3  18 Oct\\r2021  18 Oct\\r2021   \n",
       "4           4  19 Oct\\r2021  19 Oct\\r2021   \n",
       "\n",
       "                                         Description  \\\n",
       "0  TO TRANSFER-\\rUPI/DR/128689923010/GUNW\\rANT\\r/...   \n",
       "1  TO TRANSFER-\\rUPI/DR/128636615030/K\\rGURUJI/YE...   \n",
       "2  by debit card-\\rOTHPOS129102002102BPCL\\rAKASH ...   \n",
       "3  TO TRANSFER-\\rUPI/DR/129173778537/IYNUL\\rHAQ/A...   \n",
       "4  TO TRANSFER-\\rUPI/DR/129234380807/K\\rGURUJI/YE...   \n",
       "\n",
       "          Ref No./Cheque\\rNo.   Debit  Credit    Balance  \n",
       "0  TRANSFER TO\\r5097736162091  337.52     NaN  13,662.08  \n",
       "1  TRANSFER TO\\r5097687162095   17.48     NaN  13,644.60  \n",
       "2                         NaN  340.00     NaN  13,304.60  \n",
       "3  TRANSFER TO\\r5099393162093  300.00     NaN  13,004.60  \n",
       "4  TRANSFER TO\\r4692469162094   20.00     NaN  12,984.60  "
      ]
     },
     "execution_count": 48,
     "metadata": {},
     "output_type": "execute_result"
    }
   ],
   "source": [
    "df1.head()"
   ]
  },
  {
   "cell_type": "code",
   "execution_count": 49,
   "id": "c98ace3c",
   "metadata": {},
   "outputs": [],
   "source": [
    "df1['Txn Date'] = df1['Txn Date'].replace({'\\r':' '}, regex=True)\n",
    "df1['Value\\rDate'] = df1['Value\\rDate'].replace({'\\r':' '}, regex=True)"
   ]
  },
  {
   "cell_type": "code",
   "execution_count": 50,
   "id": "1eb340e5",
   "metadata": {},
   "outputs": [
    {
     "data": {
      "text/html": [
       "<div>\n",
       "<style scoped>\n",
       "    .dataframe tbody tr th:only-of-type {\n",
       "        vertical-align: middle;\n",
       "    }\n",
       "\n",
       "    .dataframe tbody tr th {\n",
       "        vertical-align: top;\n",
       "    }\n",
       "\n",
       "    .dataframe thead th {\n",
       "        text-align: right;\n",
       "    }\n",
       "</style>\n",
       "<table border=\"1\" class=\"dataframe\">\n",
       "  <thead>\n",
       "    <tr style=\"text-align: right;\">\n",
       "      <th></th>\n",
       "      <th>Unnamed: 0</th>\n",
       "      <th>Txn Date</th>\n",
       "      <th>Value\\rDate</th>\n",
       "      <th>Description</th>\n",
       "      <th>Ref No./Cheque\\rNo.</th>\n",
       "      <th>Debit</th>\n",
       "      <th>Credit</th>\n",
       "      <th>Balance</th>\n",
       "    </tr>\n",
       "  </thead>\n",
       "  <tbody>\n",
       "    <tr>\n",
       "      <th>0</th>\n",
       "      <td>0</td>\n",
       "      <td>13 Oct 2021</td>\n",
       "      <td>13 Oct 2021</td>\n",
       "      <td>TO TRANSFER-\\rUPI/DR/128689923010/GUNW\\rANT\\r/...</td>\n",
       "      <td>TRANSFER TO\\r5097736162091</td>\n",
       "      <td>337.52</td>\n",
       "      <td>NaN</td>\n",
       "      <td>13,662.08</td>\n",
       "    </tr>\n",
       "    <tr>\n",
       "      <th>1</th>\n",
       "      <td>1</td>\n",
       "      <td>13 Oct 2021</td>\n",
       "      <td>13 Oct 2021</td>\n",
       "      <td>TO TRANSFER-\\rUPI/DR/128636615030/K\\rGURUJI/YE...</td>\n",
       "      <td>TRANSFER TO\\r5097687162095</td>\n",
       "      <td>17.48</td>\n",
       "      <td>NaN</td>\n",
       "      <td>13,644.60</td>\n",
       "    </tr>\n",
       "    <tr>\n",
       "      <th>2</th>\n",
       "      <td>2</td>\n",
       "      <td>18 Oct 2021</td>\n",
       "      <td>18 Oct 2021</td>\n",
       "      <td>by debit card-\\rOTHPOS129102002102BPCL\\rAKASH ...</td>\n",
       "      <td>NaN</td>\n",
       "      <td>340.00</td>\n",
       "      <td>NaN</td>\n",
       "      <td>13,304.60</td>\n",
       "    </tr>\n",
       "    <tr>\n",
       "      <th>3</th>\n",
       "      <td>3</td>\n",
       "      <td>18 Oct 2021</td>\n",
       "      <td>18 Oct 2021</td>\n",
       "      <td>TO TRANSFER-\\rUPI/DR/129173778537/IYNUL\\rHAQ/A...</td>\n",
       "      <td>TRANSFER TO\\r5099393162093</td>\n",
       "      <td>300.00</td>\n",
       "      <td>NaN</td>\n",
       "      <td>13,004.60</td>\n",
       "    </tr>\n",
       "    <tr>\n",
       "      <th>4</th>\n",
       "      <td>4</td>\n",
       "      <td>19 Oct 2021</td>\n",
       "      <td>19 Oct 2021</td>\n",
       "      <td>TO TRANSFER-\\rUPI/DR/129234380807/K\\rGURUJI/YE...</td>\n",
       "      <td>TRANSFER TO\\r4692469162094</td>\n",
       "      <td>20.00</td>\n",
       "      <td>NaN</td>\n",
       "      <td>12,984.60</td>\n",
       "    </tr>\n",
       "  </tbody>\n",
       "</table>\n",
       "</div>"
      ],
      "text/plain": [
       "   Unnamed: 0     Txn Date  Value\\rDate  \\\n",
       "0           0  13 Oct 2021  13 Oct 2021   \n",
       "1           1  13 Oct 2021  13 Oct 2021   \n",
       "2           2  18 Oct 2021  18 Oct 2021   \n",
       "3           3  18 Oct 2021  18 Oct 2021   \n",
       "4           4  19 Oct 2021  19 Oct 2021   \n",
       "\n",
       "                                         Description  \\\n",
       "0  TO TRANSFER-\\rUPI/DR/128689923010/GUNW\\rANT\\r/...   \n",
       "1  TO TRANSFER-\\rUPI/DR/128636615030/K\\rGURUJI/YE...   \n",
       "2  by debit card-\\rOTHPOS129102002102BPCL\\rAKASH ...   \n",
       "3  TO TRANSFER-\\rUPI/DR/129173778537/IYNUL\\rHAQ/A...   \n",
       "4  TO TRANSFER-\\rUPI/DR/129234380807/K\\rGURUJI/YE...   \n",
       "\n",
       "          Ref No./Cheque\\rNo.   Debit  Credit    Balance  \n",
       "0  TRANSFER TO\\r5097736162091  337.52     NaN  13,662.08  \n",
       "1  TRANSFER TO\\r5097687162095   17.48     NaN  13,644.60  \n",
       "2                         NaN  340.00     NaN  13,304.60  \n",
       "3  TRANSFER TO\\r5099393162093  300.00     NaN  13,004.60  \n",
       "4  TRANSFER TO\\r4692469162094   20.00     NaN  12,984.60  "
      ]
     },
     "execution_count": 50,
     "metadata": {},
     "output_type": "execute_result"
    }
   ],
   "source": [
    "df1.head()"
   ]
  },
  {
   "cell_type": "code",
   "execution_count": 51,
   "id": "b236a610",
   "metadata": {},
   "outputs": [
    {
     "name": "stdout",
     "output_type": "stream",
     "text": [
      "<class 'pandas.core.frame.DataFrame'>\n",
      "RangeIndex: 10 entries, 0 to 9\n",
      "Data columns (total 8 columns):\n",
      " #   Column              Non-Null Count  Dtype  \n",
      "---  ------              --------------  -----  \n",
      " 0   Unnamed: 0          10 non-null     int64  \n",
      " 1   Txn Date            10 non-null     object \n",
      " 2   Value\r",
      "Date          10 non-null     object \n",
      " 3   Description         10 non-null     object \n",
      " 4   Ref No./Cheque\r",
      "No.  7 non-null      object \n",
      " 5   Debit               10 non-null     float64\n",
      " 6   Credit              0 non-null      float64\n",
      " 7   Balance             10 non-null     object \n",
      "dtypes: float64(2), int64(1), object(5)\n",
      "memory usage: 768.0+ bytes\n"
     ]
    }
   ],
   "source": [
    "df1.info()"
   ]
  },
  {
   "cell_type": "code",
   "execution_count": 53,
   "id": "969d1740",
   "metadata": {},
   "outputs": [
    {
     "name": "stdout",
     "output_type": "stream",
     "text": [
      "Txn Date:: Contains datelike format\n",
      "Value\r",
      "Date:: Contains datelike format\n"
     ]
    }
   ],
   "source": [
    "# Function 2\n",
    "\n",
    "\n",
    "def checkdatecolumns(df):\n",
    "    for col in df.columns:\n",
    "        if df[col].dtype == 'object':\n",
    "            try:\n",
    "                df[col] = pd.to_datetime(df[col])\n",
    "                print(f'{col} ==contains date')\n",
    "            except ValueError:\n",
    "                pass\n",
    "\n",
    "    for col in df.columns:\n",
    "        if df[col].dtype == 'datetime64[ns]':\n",
    "            print(f'{col}:: Contains datelike format')\n",
    "\n",
    "# df.dtypes\n",
    "\n",
    "checkdatecolumns(df1)"
   ]
  },
  {
   "cell_type": "code",
   "execution_count": 54,
   "id": "ad06d54a",
   "metadata": {},
   "outputs": [
    {
     "name": "stdout",
     "output_type": "stream",
     "text": [
      "Debit: is like a Transaction\n",
      "Credit: is like a Transaction\n",
      "Balance: is like a Transaction\n"
     ]
    }
   ],
   "source": [
    "def transactionlikecolumn(df):\n",
    "    for col in df.columns:\n",
    "        try:\n",
    "            if df[col].dtype == 'float64':\n",
    "                df[col].apply(str).str.extract(r'(\\d+.\\d{1,2})')\n",
    "                print(f'{col}: is like a Transaction')\n",
    "            if df[col].dtype == 'object':\n",
    "                if '.' in dff[col][0]:\n",
    "#                     print('contains')\n",
    "#                 df[col].apply(str).str.extract(r'(\\d+[.]\\d{1,2})')\n",
    "                    print(f'{col}: is like a Transaction')\n",
    "                \n",
    "        except:\n",
    "            pass\n",
    "\n",
    "transactionlikecolumn(df1)"
   ]
  },
  {
   "cell_type": "markdown",
   "id": "f542cf7e",
   "metadata": {},
   "source": [
    "## Trial 2"
   ]
  },
  {
   "cell_type": "code",
   "execution_count": 37,
   "id": "4fafa089",
   "metadata": {},
   "outputs": [],
   "source": [
    "df = pd.read_csv(r'C:\\Users\\Oracle\\Downloads\\NSE_BANKING_SECTOR.csv\\NSE_BANKING_SECTOR.csv')"
   ]
  },
  {
   "cell_type": "code",
   "execution_count": 38,
   "id": "6ad9f98d",
   "metadata": {},
   "outputs": [
    {
     "data": {
      "text/html": [
       "<div>\n",
       "<style scoped>\n",
       "    .dataframe tbody tr th:only-of-type {\n",
       "        vertical-align: middle;\n",
       "    }\n",
       "\n",
       "    .dataframe tbody tr th {\n",
       "        vertical-align: top;\n",
       "    }\n",
       "\n",
       "    .dataframe thead th {\n",
       "        text-align: right;\n",
       "    }\n",
       "</style>\n",
       "<table border=\"1\" class=\"dataframe\">\n",
       "  <thead>\n",
       "    <tr style=\"text-align: right;\">\n",
       "      <th></th>\n",
       "      <th>DATE</th>\n",
       "      <th>SYMBOL</th>\n",
       "      <th>SERIES</th>\n",
       "      <th>PREV CLOSE</th>\n",
       "      <th>OPEN</th>\n",
       "      <th>HIGH</th>\n",
       "      <th>LOW</th>\n",
       "      <th>LAST</th>\n",
       "      <th>CLOSE</th>\n",
       "      <th>VWAP</th>\n",
       "      <th>VOLUME</th>\n",
       "      <th>TURNOVER</th>\n",
       "      <th>TRADES</th>\n",
       "      <th>DELIVERABLE VOLUME</th>\n",
       "      <th>%DELIVERBLE</th>\n",
       "    </tr>\n",
       "  </thead>\n",
       "  <tbody>\n",
       "    <tr>\n",
       "      <th>0</th>\n",
       "      <td>2016-01-01</td>\n",
       "      <td>HDFC</td>\n",
       "      <td>EQ</td>\n",
       "      <td>1263.75</td>\n",
       "      <td>1261.00</td>\n",
       "      <td>1266.90</td>\n",
       "      <td>1250.65</td>\n",
       "      <td>1257.80</td>\n",
       "      <td>1258.45</td>\n",
       "      <td>1258.39</td>\n",
       "      <td>676161</td>\n",
       "      <td>8.508751e+13</td>\n",
       "      <td>13230</td>\n",
       "      <td>308262</td>\n",
       "      <td>0.4559</td>\n",
       "    </tr>\n",
       "    <tr>\n",
       "      <th>1</th>\n",
       "      <td>2016-01-04</td>\n",
       "      <td>HDFC</td>\n",
       "      <td>EQ</td>\n",
       "      <td>1258.45</td>\n",
       "      <td>1250.00</td>\n",
       "      <td>1253.90</td>\n",
       "      <td>1212.05</td>\n",
       "      <td>1217.15</td>\n",
       "      <td>1216.70</td>\n",
       "      <td>1227.55</td>\n",
       "      <td>1995329</td>\n",
       "      <td>2.449371e+14</td>\n",
       "      <td>78529</td>\n",
       "      <td>1360507</td>\n",
       "      <td>0.6818</td>\n",
       "    </tr>\n",
       "    <tr>\n",
       "      <th>2</th>\n",
       "      <td>2016-01-05</td>\n",
       "      <td>HDFC</td>\n",
       "      <td>EQ</td>\n",
       "      <td>1216.70</td>\n",
       "      <td>1229.90</td>\n",
       "      <td>1233.45</td>\n",
       "      <td>1206.50</td>\n",
       "      <td>1208.15</td>\n",
       "      <td>1209.40</td>\n",
       "      <td>1219.50</td>\n",
       "      <td>2325929</td>\n",
       "      <td>2.836464e+14</td>\n",
       "      <td>109820</td>\n",
       "      <td>1644980</td>\n",
       "      <td>0.7072</td>\n",
       "    </tr>\n",
       "    <tr>\n",
       "      <th>3</th>\n",
       "      <td>2016-01-06</td>\n",
       "      <td>HDFC</td>\n",
       "      <td>EQ</td>\n",
       "      <td>1209.40</td>\n",
       "      <td>1209.60</td>\n",
       "      <td>1220.75</td>\n",
       "      <td>1202.40</td>\n",
       "      <td>1207.55</td>\n",
       "      <td>1209.30</td>\n",
       "      <td>1210.81</td>\n",
       "      <td>2746330</td>\n",
       "      <td>3.325286e+14</td>\n",
       "      <td>96546</td>\n",
       "      <td>2001431</td>\n",
       "      <td>0.7288</td>\n",
       "    </tr>\n",
       "    <tr>\n",
       "      <th>4</th>\n",
       "      <td>2016-01-07</td>\n",
       "      <td>HDFC</td>\n",
       "      <td>EQ</td>\n",
       "      <td>1209.30</td>\n",
       "      <td>1198.85</td>\n",
       "      <td>1203.55</td>\n",
       "      <td>1175.00</td>\n",
       "      <td>1176.35</td>\n",
       "      <td>1179.45</td>\n",
       "      <td>1186.35</td>\n",
       "      <td>1780298</td>\n",
       "      <td>2.112055e+14</td>\n",
       "      <td>60151</td>\n",
       "      <td>1172564</td>\n",
       "      <td>0.6586</td>\n",
       "    </tr>\n",
       "  </tbody>\n",
       "</table>\n",
       "</div>"
      ],
      "text/plain": [
       "         DATE SYMBOL SERIES  PREV CLOSE     OPEN     HIGH      LOW     LAST  \\\n",
       "0  2016-01-01   HDFC     EQ     1263.75  1261.00  1266.90  1250.65  1257.80   \n",
       "1  2016-01-04   HDFC     EQ     1258.45  1250.00  1253.90  1212.05  1217.15   \n",
       "2  2016-01-05   HDFC     EQ     1216.70  1229.90  1233.45  1206.50  1208.15   \n",
       "3  2016-01-06   HDFC     EQ     1209.40  1209.60  1220.75  1202.40  1207.55   \n",
       "4  2016-01-07   HDFC     EQ     1209.30  1198.85  1203.55  1175.00  1176.35   \n",
       "\n",
       "     CLOSE     VWAP   VOLUME      TURNOVER  TRADES  DELIVERABLE VOLUME  \\\n",
       "0  1258.45  1258.39   676161  8.508751e+13   13230              308262   \n",
       "1  1216.70  1227.55  1995329  2.449371e+14   78529             1360507   \n",
       "2  1209.40  1219.50  2325929  2.836464e+14  109820             1644980   \n",
       "3  1209.30  1210.81  2746330  3.325286e+14   96546             2001431   \n",
       "4  1179.45  1186.35  1780298  2.112055e+14   60151             1172564   \n",
       "\n",
       "   %DELIVERBLE  \n",
       "0       0.4559  \n",
       "1       0.6818  \n",
       "2       0.7072  \n",
       "3       0.7288  \n",
       "4       0.6586  "
      ]
     },
     "execution_count": 38,
     "metadata": {},
     "output_type": "execute_result"
    }
   ],
   "source": [
    "df.head()"
   ]
  },
  {
   "cell_type": "code",
   "execution_count": 39,
   "id": "b47d825f",
   "metadata": {},
   "outputs": [
    {
     "name": "stdout",
     "output_type": "stream",
     "text": [
      "<class 'pandas.core.frame.DataFrame'>\n",
      "RangeIndex: 41231 entries, 0 to 41230\n",
      "Data columns (total 15 columns):\n",
      " #   Column              Non-Null Count  Dtype  \n",
      "---  ------              --------------  -----  \n",
      " 0   DATE                41231 non-null  object \n",
      " 1   SYMBOL              41231 non-null  object \n",
      " 2   SERIES              41231 non-null  object \n",
      " 3   PREV CLOSE          41231 non-null  float64\n",
      " 4   OPEN                41231 non-null  float64\n",
      " 5   HIGH                41231 non-null  float64\n",
      " 6   LOW                 41231 non-null  float64\n",
      " 7   LAST                41231 non-null  float64\n",
      " 8   CLOSE               41231 non-null  float64\n",
      " 9   VWAP                41231 non-null  float64\n",
      " 10  VOLUME              41231 non-null  int64  \n",
      " 11  TURNOVER            41231 non-null  float64\n",
      " 12  TRADES              41231 non-null  int64  \n",
      " 13  DELIVERABLE VOLUME  41231 non-null  int64  \n",
      " 14  %DELIVERBLE         41231 non-null  float64\n",
      "dtypes: float64(9), int64(3), object(3)\n",
      "memory usage: 4.7+ MB\n"
     ]
    }
   ],
   "source": [
    "df.info()"
   ]
  },
  {
   "cell_type": "code",
   "execution_count": 40,
   "id": "77274cca",
   "metadata": {},
   "outputs": [],
   "source": [
    "df['duplicate']= '2022-05-12'"
   ]
  },
  {
   "cell_type": "code",
   "execution_count": 41,
   "id": "a490073a",
   "metadata": {},
   "outputs": [
    {
     "name": "stdout",
     "output_type": "stream",
     "text": [
      "DATE column contains a date-like string\n",
      "duplicate column contains a date-like string\n"
     ]
    }
   ],
   "source": [
    "# Function 1\n",
    "\n",
    "def datelikecolumn(df):\n",
    "    for col in df.columns:\n",
    "        if df[col].dtype.name == 'object':\n",
    "            if all(df[col].str.contains(r'\\d{4}-\\d{2}-\\d{2}', regex=True, na=True)):\n",
    "                print(f'{col} column contains a date-like string')\n",
    "                \n",
    "datelikecolumn(df)"
   ]
  },
  {
   "cell_type": "code",
   "execution_count": 43,
   "id": "f59bd291",
   "metadata": {},
   "outputs": [
    {
     "name": "stdout",
     "output_type": "stream",
     "text": [
      "DATE:: Contains datelike format\n",
      "duplicate:: Contains datelike format\n"
     ]
    }
   ],
   "source": [
    "# Function 2\n",
    "\n",
    "\n",
    "def checkdatecolumns(df):\n",
    "    for col in df.columns:\n",
    "        if df[col].dtype == 'object':\n",
    "            try:\n",
    "                df[col] = pd.to_datetime(df[col])\n",
    "                print(f'{col} ==contains date')\n",
    "            except ValueError:\n",
    "                pass\n",
    "\n",
    "    for col in df.columns:\n",
    "        if df[col].dtype == 'datetime64[ns]':\n",
    "            print(f'{col}:: Contains datelike format')\n",
    "\n",
    "# df.dtypes\n",
    "\n",
    "checkdatecolumns(df)"
   ]
  },
  {
   "cell_type": "code",
   "execution_count": 44,
   "id": "9d41481a",
   "metadata": {},
   "outputs": [
    {
     "name": "stdout",
     "output_type": "stream",
     "text": [
      "PREV CLOSE: is like a Transaction\n",
      "OPEN: is like a Transaction\n",
      "HIGH: is like a Transaction\n",
      "LOW: is like a Transaction\n",
      "LAST: is like a Transaction\n",
      "CLOSE: is like a Transaction\n",
      "VWAP: is like a Transaction\n",
      "TURNOVER: is like a Transaction\n",
      "%DELIVERBLE: is like a Transaction\n"
     ]
    }
   ],
   "source": [
    "def transactionlikecolumn(df):\n",
    "    for col in df.columns:\n",
    "        try:\n",
    "            if df[col].dtype == 'float64':\n",
    "                df[col].apply(str).str.extract(r'(\\d+[.]\\d{1,2})')\n",
    "                print(f'{col}: is like a Transaction')\n",
    "        except:\n",
    "            pass\n",
    "\n",
    "transactionlikecolumn(df)"
   ]
  }
 ],
 "metadata": {
  "kernelspec": {
   "display_name": "Python 3 (ipykernel)",
   "language": "python",
   "name": "python3"
  },
  "language_info": {
   "codemirror_mode": {
    "name": "ipython",
    "version": 3
   },
   "file_extension": ".py",
   "mimetype": "text/x-python",
   "name": "python",
   "nbconvert_exporter": "python",
   "pygments_lexer": "ipython3",
   "version": "3.9.7"
  }
 },
 "nbformat": 4,
 "nbformat_minor": 5
}
